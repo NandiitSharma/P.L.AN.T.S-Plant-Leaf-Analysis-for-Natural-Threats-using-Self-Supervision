{
 "cells": [
  {
   "cell_type": "code",
   "execution_count": 3,
   "metadata": {
    "execution": {
     "iopub.execute_input": "2024-11-14T07:35:37.753189Z",
     "iopub.status.busy": "2024-11-14T07:35:37.752203Z",
     "iopub.status.idle": "2024-11-14T07:35:49.473914Z",
     "shell.execute_reply": "2024-11-14T07:35:49.472770Z",
     "shell.execute_reply.started": "2024-11-14T07:35:37.753149Z"
    }
   },
   "outputs": [
    {
     "name": "stdout",
     "output_type": "stream",
     "text": [
      "Requirement already satisfied: torch in /opt/conda/lib/python3.10/site-packages (2.4.0)\n",
      "Requirement already satisfied: torchvision in /opt/conda/lib/python3.10/site-packages (0.19.0)\n",
      "Requirement already satisfied: tqdm in /opt/conda/lib/python3.10/site-packages (4.66.4)\n",
      "Requirement already satisfied: h5py in /opt/conda/lib/python3.10/site-packages (3.11.0)\n",
      "Requirement already satisfied: filelock in /opt/conda/lib/python3.10/site-packages (from torch) (3.15.1)\n",
      "Requirement already satisfied: typing-extensions>=4.8.0 in /opt/conda/lib/python3.10/site-packages (from torch) (4.12.2)\n",
      "Requirement already satisfied: sympy in /opt/conda/lib/python3.10/site-packages (from torch) (1.13.3)\n",
      "Requirement already satisfied: networkx in /opt/conda/lib/python3.10/site-packages (from torch) (3.3)\n",
      "Requirement already satisfied: jinja2 in /opt/conda/lib/python3.10/site-packages (from torch) (3.1.4)\n",
      "Requirement already satisfied: fsspec in /opt/conda/lib/python3.10/site-packages (from torch) (2024.6.1)\n",
      "Requirement already satisfied: numpy in /opt/conda/lib/python3.10/site-packages (from torchvision) (1.26.4)\n",
      "Requirement already satisfied: pillow!=8.3.*,>=5.3.0 in /opt/conda/lib/python3.10/site-packages (from torchvision) (10.3.0)\n",
      "Requirement already satisfied: MarkupSafe>=2.0 in /opt/conda/lib/python3.10/site-packages (from jinja2->torch) (2.1.5)\n",
      "Requirement already satisfied: mpmath<1.4,>=1.1.0 in /opt/conda/lib/python3.10/site-packages (from sympy->torch) (1.3.0)\n"
     ]
    }
   ],
   "source": [
    "!pip install torch torchvision tqdm h5py\n"
   ]
  },
  {
   "cell_type": "code",
   "execution_count": 4,
   "metadata": {
    "execution": {
     "iopub.execute_input": "2024-11-14T07:35:49.477066Z",
     "iopub.status.busy": "2024-11-14T07:35:49.476246Z",
     "iopub.status.idle": "2024-11-14T07:35:49.482430Z",
     "shell.execute_reply": "2024-11-14T07:35:49.481563Z",
     "shell.execute_reply.started": "2024-11-14T07:35:49.476997Z"
    }
   },
   "outputs": [],
   "source": [
    "import torch\n",
    "import torch.nn as nn\n",
    "import torchvision.transforms as transforms\n",
    "import torchvision.models as models\n",
    "from torch.utils.data import DataLoader, Dataset\n",
    "from tqdm import tqdm  # For progress bar\n",
    "import time\n",
    "import os\n",
    "from PIL import Image\n",
    "import h5py"
   ]
  },
  {
   "cell_type": "code",
   "execution_count": 5,
   "metadata": {
    "execution": {
     "iopub.execute_input": "2024-11-14T07:35:49.484050Z",
     "iopub.status.busy": "2024-11-14T07:35:49.483748Z",
     "iopub.status.idle": "2024-11-14T07:35:49.496346Z",
     "shell.execute_reply": "2024-11-14T07:35:49.495540Z",
     "shell.execute_reply.started": "2024-11-14T07:35:49.484004Z"
    }
   },
   "outputs": [],
   "source": [
    "# Custom Dataset for PlantVillage with added error handling for debugging\n",
    "class PlantVillageDataset(Dataset):\n",
    "    def __init__(self, root_dir, transform=None):\n",
    "        self.root_dir = root_dir\n",
    "        self.transform = transform\n",
    "        self.image_paths = []\n",
    "        self.skipped_files = 0  # Count how many files are skipped\n",
    "\n",
    "        for subdir, _, files in os.walk(root_dir):\n",
    "            print(f\"Directory: {subdir}, Number of files: {len(files)}\")\n",
    "            print(\"First 5 files:\", files[:5])  # Print first 5 files in each directory\n",
    "            \n",
    "            for file in files:\n",
    "                file_path = os.path.join(subdir, file)\n",
    "                try:\n",
    "                    # Test if the file can be opened as an image (ignore file extension)\n",
    "                    with Image.open(file_path) as img:\n",
    "                        self.image_paths.append(file_path)\n",
    "                except Exception as e:\n",
    "                    # Log the error if the file cannot be opened as an image\n",
    "                    print(f\"Error opening file {file_path}: {e}\")\n",
    "                    self.skipped_files += 1\n",
    "\n",
    "    def __len__(self):\n",
    "        return len(self.image_paths)\n",
    "\n",
    "    def __getitem__(self, idx):\n",
    "        image_path = self.image_paths[idx]\n",
    "        image = Image.open(image_path).convert('RGB')\n",
    "        if self.transform:\n",
    "            image = self.transform(image)\n",
    "        return image"
   ]
  },
  {
   "cell_type": "code",
   "execution_count": 6,
   "metadata": {
    "execution": {
     "iopub.execute_input": "2024-11-14T07:35:49.498984Z",
     "iopub.status.busy": "2024-11-14T07:35:49.498649Z",
     "iopub.status.idle": "2024-11-14T07:35:49.510733Z",
     "shell.execute_reply": "2024-11-14T07:35:49.509723Z",
     "shell.execute_reply.started": "2024-11-14T07:35:49.498940Z"
    }
   },
   "outputs": [],
   "source": [
    "# Data augmentation for self-supervised learning\n",
    "train_transform = transforms.Compose([\n",
    "    transforms.RandomResizedCrop(224),\n",
    "    transforms.RandomHorizontalFlip(),\n",
    "    transforms.RandomApply([transforms.ColorJitter(0.4, 0.4, 0.4, 0.1)], p=0.8),\n",
    "    transforms.RandomGrayscale(p=0.2),\n",
    "    transforms.ToTensor(),\n",
    "    transforms.Normalize(mean=[0.485, 0.456, 0.406], std=[0.229, 0.224, 0.225])\n",
    "])\n"
   ]
  },
  {
   "cell_type": "code",
   "execution_count": 7,
   "metadata": {
    "execution": {
     "iopub.execute_input": "2024-11-14T07:35:49.512187Z",
     "iopub.status.busy": "2024-11-14T07:35:49.511802Z",
     "iopub.status.idle": "2024-11-14T07:42:14.815205Z",
     "shell.execute_reply": "2024-11-14T07:42:14.814297Z",
     "shell.execute_reply.started": "2024-11-14T07:35:49.512155Z"
    }
   },
   "outputs": [
    {
     "name": "stdout",
     "output_type": "stream",
     "text": [
      "Directory: /kaggle/input/plantvillage-dataset/PlantVillage_dataset_2, Number of files: 43460\n",
      "First 5 files: ['64e034cb-54bb-4434-b49a-42efe260c966___CREC_HLB 7803.JPG', '0ade19e4-c48b-4e58-bddf-153d44d48c3e___Com.G_SpM_FL 9449.JPG', '919505a0-7e06-4a89-8faf-f308bd644a6a___RS_NLB 4141.JPG', 'f218fcff-fc71-4db2-9ed8-52d0871d5a67___CREC_HLB 7344.JPG', 'd08a1c48-3360-40e3-9c3d-e47c2812bed2___UF.GRC_YLCV_Lab 01920.JPG']\n"
     ]
    },
    {
     "name": "stderr",
     "output_type": "stream",
     "text": [
      "/opt/conda/lib/python3.10/site-packages/torch/utils/data/dataloader.py:557: UserWarning: This DataLoader will create 8 worker processes in total. Our suggested max number of worker in current system is 4, which is smaller than what this DataLoader is going to create. Please be aware that excessive worker creation might get DataLoader running slow or even freeze, lower the worker number to avoid potential slowness/freeze if necessary.\n",
      "  warnings.warn(_create_warning_msg(\n"
     ]
    }
   ],
   "source": [
    "# Load PlantVillage dataset\n",
    "root_dir = '/kaggle/input/plantvillage-dataset/PlantVillage_dataset_2' # Update with actual path\n",
    "dataset = PlantVillageDataset(root_dir=root_dir, transform=train_transform)\n",
    "train_loader = DataLoader(dataset, batch_size=64, shuffle=True, num_workers=8)"
   ]
  },
  {
   "cell_type": "code",
   "execution_count": 8,
   "metadata": {
    "execution": {
     "iopub.execute_input": "2024-11-14T07:42:14.816647Z",
     "iopub.status.busy": "2024-11-14T07:42:14.816371Z",
     "iopub.status.idle": "2024-11-14T07:42:14.821910Z",
     "shell.execute_reply": "2024-11-14T07:42:14.821079Z",
     "shell.execute_reply.started": "2024-11-14T07:42:14.816617Z"
    }
   },
   "outputs": [
    {
     "name": "stdout",
     "output_type": "stream",
     "text": [
      "Total number of images in the dataset: 43460\n",
      "Expected number of batches: 679\n"
     ]
    }
   ],
   "source": [
    "# Print dataset size\n",
    "print(f\"Total number of images in the dataset: {len(dataset)}\")\n",
    "# Calculate expected number of batches\n",
    "expected_batches = len(dataset) // 64\n",
    "print(f\"Expected number of batches: {expected_batches}\")"
   ]
  },
  {
   "cell_type": "code",
   "execution_count": 9,
   "metadata": {
    "execution": {
     "iopub.execute_input": "2024-11-14T07:42:14.823539Z",
     "iopub.status.busy": "2024-11-14T07:42:14.823193Z",
     "iopub.status.idle": "2024-11-14T07:42:15.374636Z",
     "shell.execute_reply": "2024-11-14T07:42:15.373747Z",
     "shell.execute_reply.started": "2024-11-14T07:42:14.823498Z"
    }
   },
   "outputs": [
    {
     "name": "stderr",
     "output_type": "stream",
     "text": [
      "/opt/conda/lib/python3.10/site-packages/torchvision/models/_utils.py:208: UserWarning: The parameter 'pretrained' is deprecated since 0.13 and may be removed in the future, please use 'weights' instead.\n",
      "  warnings.warn(\n",
      "/opt/conda/lib/python3.10/site-packages/torchvision/models/_utils.py:223: UserWarning: Arguments other than a weight enum or `None` for 'weights' are deprecated since 0.13 and may be removed in the future. The current behavior is equivalent to passing `weights=MobileNet_V2_Weights.IMAGENET1K_V1`. You can also use `weights=MobileNet_V2_Weights.DEFAULT` to get the most up-to-date weights.\n",
      "  warnings.warn(msg)\n",
      "Downloading: \"https://download.pytorch.org/models/mobilenet_v2-b0353104.pth\" to /root/.cache/torch/hub/checkpoints/mobilenet_v2-b0353104.pth\n",
      "100%|██████████| 13.6M/13.6M [00:00<00:00, 111MB/s] \n"
     ]
    }
   ],
   "source": [
    "# Load MobileNet with ImageNet weights, removing the classifier for self-supervised learning\n",
    "mobilenet = models.mobilenet_v2(pretrained=True)\n",
    "mobilenet.classifier = nn.Identity()\n"
   ]
  },
  {
   "cell_type": "code",
   "execution_count": 10,
   "metadata": {
    "execution": {
     "iopub.execute_input": "2024-11-14T07:42:15.376548Z",
     "iopub.status.busy": "2024-11-14T07:42:15.375961Z",
     "iopub.status.idle": "2024-11-14T07:42:15.383323Z",
     "shell.execute_reply": "2024-11-14T07:42:15.382269Z",
     "shell.execute_reply.started": "2024-11-14T07:42:15.376497Z"
    }
   },
   "outputs": [],
   "source": [
    "# Define MoCo-style Model with MobileNet as the encoder and dropout\n",
    "class MoCoModelWithDropout(nn.Module):\n",
    "    def __init__(self, base_encoder, dropout_prob=0.5):\n",
    "        super(MoCoModelWithDropout, self).__init__()\n",
    "        self.encoder_q = nn.Sequential(\n",
    "            base_encoder,  # Query encoder\n",
    "            nn.Dropout(p=dropout_prob)  # Add dropout layer\n",
    "        )\n",
    "        self.encoder_k = nn.Sequential(\n",
    "            base_encoder,  # Key encoder\n",
    "            nn.Dropout(p=dropout_prob)  # Add dropout layer\n",
    "        )\n",
    "\n",
    "    def forward(self, x_q, x_k):\n",
    "        q = self.encoder_q(x_q)  # Encode the query with dropout\n",
    "        k = self.encoder_k(x_k)  # Encode the key with dropout\n",
    "        return q, k\n",
    "\n"
   ]
  },
  {
   "cell_type": "code",
   "execution_count": 11,
   "metadata": {
    "execution": {
     "iopub.execute_input": "2024-11-14T07:42:15.384997Z",
     "iopub.status.busy": "2024-11-14T07:42:15.384574Z",
     "iopub.status.idle": "2024-11-14T07:42:15.736214Z",
     "shell.execute_reply": "2024-11-14T07:42:15.735393Z",
     "shell.execute_reply.started": "2024-11-14T07:42:15.384955Z"
    }
   },
   "outputs": [],
   "source": [
    "# Initialize MoCo with MobileNet as the encoder and dropout\n",
    "model_with_dropout = MoCoModelWithDropout(mobilenet, dropout_prob=0.5).cuda()"
   ]
  },
  {
   "cell_type": "code",
   "execution_count": 12,
   "metadata": {
    "execution": {
     "iopub.execute_input": "2024-11-14T07:42:15.739480Z",
     "iopub.status.busy": "2024-11-14T07:42:15.739209Z",
     "iopub.status.idle": "2024-11-14T07:42:15.745307Z",
     "shell.execute_reply": "2024-11-14T07:42:15.744423Z",
     "shell.execute_reply.started": "2024-11-14T07:42:15.739450Z"
    }
   },
   "outputs": [],
   "source": [
    "# Define the AdamW optimizer\n",
    "optimizer = torch.optim.AdamW(model_with_dropout.parameters(), lr=0.01, weight_decay=0.01)\n"
   ]
  },
  {
   "cell_type": "code",
   "execution_count": 13,
   "metadata": {
    "execution": {
     "iopub.execute_input": "2024-11-14T07:42:15.747073Z",
     "iopub.status.busy": "2024-11-14T07:42:15.746686Z",
     "iopub.status.idle": "2024-11-14T07:42:15.760770Z",
     "shell.execute_reply": "2024-11-14T07:42:15.759997Z",
     "shell.execute_reply.started": "2024-11-14T07:42:15.747030Z"
    }
   },
   "outputs": [],
   "source": [
    "# Define the InfoNCE (contrastive) loss function with accuracy calculation\n",
    "def contrastive_loss_with_accuracy(q, k, temperature=0.07):\n",
    "    # Normalize the queries and keys\n",
    "    q = nn.functional.normalize(q, dim=1)\n",
    "    k = nn.functional.normalize(k, dim=1)\n",
    "\n",
    "    # Compute positive logits (similarity between q and k)\n",
    "    pos_logits = torch.einsum('nc,nc->n', [q, k]).unsqueeze(-1)\n",
    "\n",
    "    # Compute negative logits (similarity between q and all keys)\n",
    "    neg_logits = torch.mm(q, k.T)\n",
    "\n",
    "    # Combine the logits and apply softmax\n",
    "    logits = torch.cat([pos_logits, neg_logits], dim=1)\n",
    "    logits /= temperature\n",
    "    labels = torch.zeros(logits.shape[0], dtype=torch.long).cuda()\n",
    "\n",
    "    # Compute InfoNCE loss\n",
    "    loss = nn.CrossEntropyLoss()(logits, labels)\n",
    "\n",
    "    # Calculate accuracy: Check if the highest logit is the positive one\n",
    "    _, preds = torch.max(logits, dim=1)\n",
    "    accuracy = (preds == labels).float().mean().item()\n",
    "\n",
    "    return loss, accuracy"
   ]
  },
  {
   "cell_type": "code",
   "execution_count": 14,
   "metadata": {
    "execution": {
     "iopub.execute_input": "2024-11-14T07:42:15.762029Z",
     "iopub.status.busy": "2024-11-14T07:42:15.761738Z",
     "iopub.status.idle": "2024-11-14T16:25:48.689319Z",
     "shell.execute_reply": "2024-11-14T16:25:48.688155Z",
     "shell.execute_reply.started": "2024-11-14T07:42:15.761983Z"
    }
   },
   "outputs": [
    {
     "name": "stderr",
     "output_type": "stream",
     "text": [
      "Epoch [1/100]: 100%|██████████| 680/680 [05:22<00:00,  2.11it/s, accuracy=75, loss=0.72]   \n"
     ]
    },
    {
     "name": "stdout",
     "output_type": "stream",
     "text": [
      "Epoch [1/100], Avg Loss: 1.1294, Accuracy: 71.18%, Time: 322.01s\n"
     ]
    },
    {
     "name": "stderr",
     "output_type": "stream",
     "text": [
      "Epoch [2/100]: 100%|██████████| 680/680 [05:19<00:00,  2.13it/s, accuracy=50, loss=0.702]  \n"
     ]
    },
    {
     "name": "stdout",
     "output_type": "stream",
     "text": [
      "Epoch [2/100], Avg Loss: 1.0417, Accuracy: 72.88%, Time: 319.44s\n"
     ]
    },
    {
     "name": "stderr",
     "output_type": "stream",
     "text": [
      "Epoch [3/100]: 100%|██████████| 680/680 [05:18<00:00,  2.13it/s, accuracy=100, loss=0.697] \n"
     ]
    },
    {
     "name": "stdout",
     "output_type": "stream",
     "text": [
      "Epoch [3/100], Avg Loss: 0.9643, Accuracy: 75.58%, Time: 318.81s\n"
     ]
    },
    {
     "name": "stderr",
     "output_type": "stream",
     "text": [
      "Epoch [4/100]: 100%|██████████| 680/680 [05:19<00:00,  2.13it/s, accuracy=0, loss=0.699]   \n"
     ]
    },
    {
     "name": "stdout",
     "output_type": "stream",
     "text": [
      "Epoch [4/100], Avg Loss: 0.9447, Accuracy: 75.80%, Time: 319.04s\n"
     ]
    },
    {
     "name": "stderr",
     "output_type": "stream",
     "text": [
      "Epoch [5/100]: 100%|██████████| 680/680 [05:18<00:00,  2.13it/s, accuracy=100, loss=0.703] \n"
     ]
    },
    {
     "name": "stdout",
     "output_type": "stream",
     "text": [
      "Epoch [5/100], Avg Loss: 0.9169, Accuracy: 76.14%, Time: 318.67s\n"
     ]
    },
    {
     "name": "stderr",
     "output_type": "stream",
     "text": [
      "Epoch [6/100]: 100%|██████████| 680/680 [05:17<00:00,  2.14it/s, accuracy=50, loss=0.697]  \n"
     ]
    },
    {
     "name": "stdout",
     "output_type": "stream",
     "text": [
      "Epoch [6/100], Avg Loss: 0.8985, Accuracy: 77.01%, Time: 317.87s\n"
     ]
    },
    {
     "name": "stderr",
     "output_type": "stream",
     "text": [
      "Epoch [7/100]: 100%|██████████| 680/680 [05:17<00:00,  2.14it/s, accuracy=100, loss=0.695] \n"
     ]
    },
    {
     "name": "stdout",
     "output_type": "stream",
     "text": [
      "Epoch [7/100], Avg Loss: 0.8961, Accuracy: 76.99%, Time: 317.65s\n"
     ]
    },
    {
     "name": "stderr",
     "output_type": "stream",
     "text": [
      "Epoch [8/100]: 100%|██████████| 680/680 [05:17<00:00,  2.14it/s, accuracy=100, loss=0.699] \n"
     ]
    },
    {
     "name": "stdout",
     "output_type": "stream",
     "text": [
      "Epoch [8/100], Avg Loss: 0.8748, Accuracy: 77.59%, Time: 317.59s\n"
     ]
    },
    {
     "name": "stderr",
     "output_type": "stream",
     "text": [
      "Epoch [9/100]: 100%|██████████| 680/680 [05:17<00:00,  2.14it/s, accuracy=75, loss=0.695]  \n"
     ]
    },
    {
     "name": "stdout",
     "output_type": "stream",
     "text": [
      "Epoch [9/100], Avg Loss: 0.8766, Accuracy: 77.31%, Time: 317.15s\n"
     ]
    },
    {
     "name": "stderr",
     "output_type": "stream",
     "text": [
      "Epoch [10/100]: 100%|██████████| 680/680 [05:17<00:00,  2.14it/s, accuracy=75, loss=0.699]  \n"
     ]
    },
    {
     "name": "stdout",
     "output_type": "stream",
     "text": [
      "Epoch [10/100], Avg Loss: 0.8758, Accuracy: 77.37%, Time: 317.07s\n"
     ]
    },
    {
     "name": "stderr",
     "output_type": "stream",
     "text": [
      "Epoch [11/100]: 100%|██████████| 680/680 [05:16<00:00,  2.15it/s, accuracy=100, loss=0.696] \n"
     ]
    },
    {
     "name": "stdout",
     "output_type": "stream",
     "text": [
      "Epoch [11/100], Avg Loss: 0.8731, Accuracy: 77.32%, Time: 316.66s\n"
     ]
    },
    {
     "name": "stderr",
     "output_type": "stream",
     "text": [
      "Epoch [12/100]: 100%|██████████| 680/680 [05:16<00:00,  2.15it/s, accuracy=100, loss=0.698] \n"
     ]
    },
    {
     "name": "stdout",
     "output_type": "stream",
     "text": [
      "Epoch [12/100], Avg Loss: 0.8774, Accuracy: 77.37%, Time: 316.79s\n"
     ]
    },
    {
     "name": "stderr",
     "output_type": "stream",
     "text": [
      "Epoch [13/100]: 100%|██████████| 680/680 [05:16<00:00,  2.15it/s, accuracy=50, loss=0.696]  \n"
     ]
    },
    {
     "name": "stdout",
     "output_type": "stream",
     "text": [
      "Epoch [13/100], Avg Loss: 0.8738, Accuracy: 77.45%, Time: 316.28s\n"
     ]
    },
    {
     "name": "stderr",
     "output_type": "stream",
     "text": [
      "Epoch [14/100]: 100%|██████████| 680/680 [05:15<00:00,  2.15it/s, accuracy=75, loss=0.707]  \n"
     ]
    },
    {
     "name": "stdout",
     "output_type": "stream",
     "text": [
      "Epoch [14/100], Avg Loss: 0.8694, Accuracy: 77.76%, Time: 315.87s\n"
     ]
    },
    {
     "name": "stderr",
     "output_type": "stream",
     "text": [
      "Epoch [15/100]: 100%|██████████| 680/680 [05:15<00:00,  2.15it/s, accuracy=75, loss=0.696]  \n"
     ]
    },
    {
     "name": "stdout",
     "output_type": "stream",
     "text": [
      "Epoch [15/100], Avg Loss: 0.8711, Accuracy: 77.45%, Time: 315.82s\n"
     ]
    },
    {
     "name": "stderr",
     "output_type": "stream",
     "text": [
      "Epoch [16/100]: 100%|██████████| 680/680 [05:15<00:00,  2.15it/s, accuracy=100, loss=0.7]   \n"
     ]
    },
    {
     "name": "stdout",
     "output_type": "stream",
     "text": [
      "Epoch [16/100], Avg Loss: 0.8664, Accuracy: 77.93%, Time: 315.59s\n"
     ]
    },
    {
     "name": "stderr",
     "output_type": "stream",
     "text": [
      "Epoch [17/100]: 100%|██████████| 680/680 [05:15<00:00,  2.15it/s, accuracy=50, loss=0.695]  \n"
     ]
    },
    {
     "name": "stdout",
     "output_type": "stream",
     "text": [
      "Epoch [17/100], Avg Loss: 0.8667, Accuracy: 77.77%, Time: 315.73s\n"
     ]
    },
    {
     "name": "stderr",
     "output_type": "stream",
     "text": [
      "Epoch [18/100]: 100%|██████████| 680/680 [05:15<00:00,  2.15it/s, accuracy=75, loss=0.697]  \n"
     ]
    },
    {
     "name": "stdout",
     "output_type": "stream",
     "text": [
      "Epoch [18/100], Avg Loss: 0.8650, Accuracy: 77.77%, Time: 315.97s\n"
     ]
    },
    {
     "name": "stderr",
     "output_type": "stream",
     "text": [
      "Epoch [19/100]: 100%|██████████| 680/680 [05:15<00:00,  2.16it/s, accuracy=75, loss=0.695]  \n"
     ]
    },
    {
     "name": "stdout",
     "output_type": "stream",
     "text": [
      "Epoch [19/100], Avg Loss: 0.8619, Accuracy: 77.92%, Time: 315.29s\n"
     ]
    },
    {
     "name": "stderr",
     "output_type": "stream",
     "text": [
      "Epoch [20/100]: 100%|██████████| 680/680 [05:15<00:00,  2.16it/s, accuracy=75, loss=0.696]  \n"
     ]
    },
    {
     "name": "stdout",
     "output_type": "stream",
     "text": [
      "Epoch [20/100], Avg Loss: 0.8501, Accuracy: 78.11%, Time: 315.09s\n"
     ]
    },
    {
     "name": "stderr",
     "output_type": "stream",
     "text": [
      "Epoch [21/100]: 100%|██████████| 680/680 [05:14<00:00,  2.16it/s, accuracy=50, loss=0.695]  \n"
     ]
    },
    {
     "name": "stdout",
     "output_type": "stream",
     "text": [
      "Epoch [21/100], Avg Loss: 0.8640, Accuracy: 77.60%, Time: 314.95s\n"
     ]
    },
    {
     "name": "stderr",
     "output_type": "stream",
     "text": [
      "Epoch [22/100]: 100%|██████████| 680/680 [05:15<00:00,  2.16it/s, accuracy=75, loss=0.697]  \n"
     ]
    },
    {
     "name": "stdout",
     "output_type": "stream",
     "text": [
      "Epoch [22/100], Avg Loss: 0.8524, Accuracy: 78.01%, Time: 315.05s\n"
     ]
    },
    {
     "name": "stderr",
     "output_type": "stream",
     "text": [
      "Epoch [23/100]: 100%|██████████| 680/680 [05:15<00:00,  2.16it/s, accuracy=100, loss=0.695] \n"
     ]
    },
    {
     "name": "stdout",
     "output_type": "stream",
     "text": [
      "Epoch [23/100], Avg Loss: 0.8520, Accuracy: 78.37%, Time: 315.41s\n"
     ]
    },
    {
     "name": "stderr",
     "output_type": "stream",
     "text": [
      "Epoch [24/100]: 100%|██████████| 680/680 [05:14<00:00,  2.16it/s, accuracy=100, loss=0.694] \n"
     ]
    },
    {
     "name": "stdout",
     "output_type": "stream",
     "text": [
      "Epoch [24/100], Avg Loss: 0.8616, Accuracy: 78.15%, Time: 314.70s\n"
     ]
    },
    {
     "name": "stderr",
     "output_type": "stream",
     "text": [
      "Epoch [25/100]: 100%|██████████| 680/680 [05:14<00:00,  2.16it/s, accuracy=75, loss=0.695]  \n"
     ]
    },
    {
     "name": "stdout",
     "output_type": "stream",
     "text": [
      "Epoch [25/100], Avg Loss: 0.8548, Accuracy: 77.78%, Time: 314.91s\n"
     ]
    },
    {
     "name": "stderr",
     "output_type": "stream",
     "text": [
      "Epoch [26/100]: 100%|██████████| 680/680 [05:14<00:00,  2.16it/s, accuracy=25, loss=0.695]  \n"
     ]
    },
    {
     "name": "stdout",
     "output_type": "stream",
     "text": [
      "Epoch [26/100], Avg Loss: 0.8461, Accuracy: 77.75%, Time: 314.63s\n"
     ]
    },
    {
     "name": "stderr",
     "output_type": "stream",
     "text": [
      "Epoch [27/100]: 100%|██████████| 680/680 [05:14<00:00,  2.16it/s, accuracy=75, loss=0.694]  \n"
     ]
    },
    {
     "name": "stdout",
     "output_type": "stream",
     "text": [
      "Epoch [27/100], Avg Loss: 0.8536, Accuracy: 77.75%, Time: 314.55s\n"
     ]
    },
    {
     "name": "stderr",
     "output_type": "stream",
     "text": [
      "Epoch [28/100]: 100%|██████████| 680/680 [05:15<00:00,  2.16it/s, accuracy=75, loss=0.696]  \n"
     ]
    },
    {
     "name": "stdout",
     "output_type": "stream",
     "text": [
      "Epoch [28/100], Avg Loss: 0.8562, Accuracy: 77.78%, Time: 315.08s\n"
     ]
    },
    {
     "name": "stderr",
     "output_type": "stream",
     "text": [
      "Epoch [29/100]: 100%|██████████| 680/680 [05:14<00:00,  2.16it/s, accuracy=75, loss=0.708]  \n"
     ]
    },
    {
     "name": "stdout",
     "output_type": "stream",
     "text": [
      "Epoch [29/100], Avg Loss: 0.8561, Accuracy: 77.98%, Time: 314.46s\n"
     ]
    },
    {
     "name": "stderr",
     "output_type": "stream",
     "text": [
      "Epoch [30/100]: 100%|██████████| 680/680 [05:14<00:00,  2.16it/s, accuracy=100, loss=0.696] \n"
     ]
    },
    {
     "name": "stdout",
     "output_type": "stream",
     "text": [
      "Epoch [30/100], Avg Loss: 0.8556, Accuracy: 78.19%, Time: 314.60s\n"
     ]
    },
    {
     "name": "stderr",
     "output_type": "stream",
     "text": [
      "Epoch [31/100]: 100%|██████████| 680/680 [05:14<00:00,  2.16it/s, accuracy=100, loss=0.696] \n"
     ]
    },
    {
     "name": "stdout",
     "output_type": "stream",
     "text": [
      "Epoch [31/100], Avg Loss: 0.8591, Accuracy: 77.57%, Time: 314.43s\n"
     ]
    },
    {
     "name": "stderr",
     "output_type": "stream",
     "text": [
      "Epoch [32/100]: 100%|██████████| 680/680 [05:14<00:00,  2.16it/s, accuracy=75, loss=0.703]  \n"
     ]
    },
    {
     "name": "stdout",
     "output_type": "stream",
     "text": [
      "Epoch [32/100], Avg Loss: 0.8572, Accuracy: 77.99%, Time: 314.33s\n"
     ]
    },
    {
     "name": "stderr",
     "output_type": "stream",
     "text": [
      "Epoch [33/100]: 100%|██████████| 680/680 [05:14<00:00,  2.16it/s, accuracy=50, loss=0.695]  \n"
     ]
    },
    {
     "name": "stdout",
     "output_type": "stream",
     "text": [
      "Epoch [33/100], Avg Loss: 0.8579, Accuracy: 77.96%, Time: 314.16s\n"
     ]
    },
    {
     "name": "stderr",
     "output_type": "stream",
     "text": [
      "Epoch [34/100]: 100%|██████████| 680/680 [05:14<00:00,  2.16it/s, accuracy=50, loss=0.696]  \n"
     ]
    },
    {
     "name": "stdout",
     "output_type": "stream",
     "text": [
      "Epoch [34/100], Avg Loss: 0.8583, Accuracy: 77.72%, Time: 314.22s\n"
     ]
    },
    {
     "name": "stderr",
     "output_type": "stream",
     "text": [
      "Epoch [35/100]: 100%|██████████| 680/680 [05:14<00:00,  2.16it/s, accuracy=75, loss=0.695]  \n"
     ]
    },
    {
     "name": "stdout",
     "output_type": "stream",
     "text": [
      "Epoch [35/100], Avg Loss: 0.8712, Accuracy: 77.53%, Time: 314.14s\n"
     ]
    },
    {
     "name": "stderr",
     "output_type": "stream",
     "text": [
      "Epoch [36/100]: 100%|██████████| 680/680 [05:14<00:00,  2.17it/s, accuracy=25, loss=0.697]  \n"
     ]
    },
    {
     "name": "stdout",
     "output_type": "stream",
     "text": [
      "Epoch [36/100], Avg Loss: 0.8619, Accuracy: 77.38%, Time: 314.03s\n"
     ]
    },
    {
     "name": "stderr",
     "output_type": "stream",
     "text": [
      "Epoch [37/100]: 100%|██████████| 680/680 [05:14<00:00,  2.16it/s, accuracy=75, loss=0.697]  \n"
     ]
    },
    {
     "name": "stdout",
     "output_type": "stream",
     "text": [
      "Epoch [37/100], Avg Loss: 0.8652, Accuracy: 77.73%, Time: 314.49s\n"
     ]
    },
    {
     "name": "stderr",
     "output_type": "stream",
     "text": [
      "Epoch [38/100]: 100%|██████████| 680/680 [05:13<00:00,  2.17it/s, accuracy=50, loss=0.698]  \n"
     ]
    },
    {
     "name": "stdout",
     "output_type": "stream",
     "text": [
      "Epoch [38/100], Avg Loss: 0.8695, Accuracy: 77.48%, Time: 313.75s\n"
     ]
    },
    {
     "name": "stderr",
     "output_type": "stream",
     "text": [
      "Epoch [39/100]: 100%|██████████| 680/680 [05:13<00:00,  2.17it/s, accuracy=50, loss=0.705]  \n"
     ]
    },
    {
     "name": "stdout",
     "output_type": "stream",
     "text": [
      "Epoch [39/100], Avg Loss: 0.8643, Accuracy: 77.75%, Time: 313.86s\n"
     ]
    },
    {
     "name": "stderr",
     "output_type": "stream",
     "text": [
      "Epoch [40/100]: 100%|██████████| 680/680 [05:13<00:00,  2.17it/s, accuracy=75, loss=0.695]  \n"
     ]
    },
    {
     "name": "stdout",
     "output_type": "stream",
     "text": [
      "Epoch [40/100], Avg Loss: 0.8666, Accuracy: 77.64%, Time: 313.76s\n"
     ]
    },
    {
     "name": "stderr",
     "output_type": "stream",
     "text": [
      "Epoch [41/100]: 100%|██████████| 680/680 [05:13<00:00,  2.17it/s, accuracy=25, loss=0.694]  \n"
     ]
    },
    {
     "name": "stdout",
     "output_type": "stream",
     "text": [
      "Epoch [41/100], Avg Loss: 0.8691, Accuracy: 77.50%, Time: 313.76s\n"
     ]
    },
    {
     "name": "stderr",
     "output_type": "stream",
     "text": [
      "Epoch [42/100]: 100%|██████████| 680/680 [05:13<00:00,  2.17it/s, accuracy=100, loss=0.695] \n"
     ]
    },
    {
     "name": "stdout",
     "output_type": "stream",
     "text": [
      "Epoch [42/100], Avg Loss: 0.8699, Accuracy: 77.65%, Time: 313.51s\n"
     ]
    },
    {
     "name": "stderr",
     "output_type": "stream",
     "text": [
      "Epoch [43/100]: 100%|██████████| 680/680 [05:13<00:00,  2.17it/s, accuracy=100, loss=0.694] \n"
     ]
    },
    {
     "name": "stdout",
     "output_type": "stream",
     "text": [
      "Epoch [43/100], Avg Loss: 0.8699, Accuracy: 77.96%, Time: 313.70s\n"
     ]
    },
    {
     "name": "stderr",
     "output_type": "stream",
     "text": [
      "Epoch [44/100]: 100%|██████████| 680/680 [05:13<00:00,  2.17it/s, accuracy=50, loss=0.696]  \n"
     ]
    },
    {
     "name": "stdout",
     "output_type": "stream",
     "text": [
      "Epoch [44/100], Avg Loss: 0.8797, Accuracy: 77.33%, Time: 313.37s\n"
     ]
    },
    {
     "name": "stderr",
     "output_type": "stream",
     "text": [
      "Epoch [45/100]: 100%|██████████| 680/680 [05:13<00:00,  2.17it/s, accuracy=75, loss=0.696]  \n"
     ]
    },
    {
     "name": "stdout",
     "output_type": "stream",
     "text": [
      "Epoch [45/100], Avg Loss: 0.8789, Accuracy: 77.19%, Time: 313.70s\n"
     ]
    },
    {
     "name": "stderr",
     "output_type": "stream",
     "text": [
      "Epoch [46/100]: 100%|██████████| 680/680 [05:13<00:00,  2.17it/s, accuracy=50, loss=0.696]  \n"
     ]
    },
    {
     "name": "stdout",
     "output_type": "stream",
     "text": [
      "Epoch [46/100], Avg Loss: 0.8772, Accuracy: 77.44%, Time: 313.54s\n"
     ]
    },
    {
     "name": "stderr",
     "output_type": "stream",
     "text": [
      "Epoch [47/100]: 100%|██████████| 680/680 [05:13<00:00,  2.17it/s, accuracy=75, loss=0.698]  \n"
     ]
    },
    {
     "name": "stdout",
     "output_type": "stream",
     "text": [
      "Epoch [47/100], Avg Loss: 0.8761, Accuracy: 77.35%, Time: 313.24s\n"
     ]
    },
    {
     "name": "stderr",
     "output_type": "stream",
     "text": [
      "Epoch [48/100]: 100%|██████████| 680/680 [05:13<00:00,  2.17it/s, accuracy=50, loss=0.694]  \n"
     ]
    },
    {
     "name": "stdout",
     "output_type": "stream",
     "text": [
      "Epoch [48/100], Avg Loss: 0.9037, Accuracy: 76.60%, Time: 313.23s\n"
     ]
    },
    {
     "name": "stderr",
     "output_type": "stream",
     "text": [
      "Epoch [49/100]: 100%|██████████| 680/680 [05:13<00:00,  2.17it/s, accuracy=75, loss=0.695]  \n"
     ]
    },
    {
     "name": "stdout",
     "output_type": "stream",
     "text": [
      "Epoch [49/100], Avg Loss: 0.8830, Accuracy: 76.97%, Time: 313.42s\n"
     ]
    },
    {
     "name": "stderr",
     "output_type": "stream",
     "text": [
      "Epoch [50/100]: 100%|██████████| 680/680 [05:13<00:00,  2.17it/s, accuracy=50, loss=0.696]  \n"
     ]
    },
    {
     "name": "stdout",
     "output_type": "stream",
     "text": [
      "Epoch [50/100], Avg Loss: 0.8783, Accuracy: 77.18%, Time: 313.03s\n"
     ]
    },
    {
     "name": "stderr",
     "output_type": "stream",
     "text": [
      "Epoch [51/100]: 100%|██████████| 680/680 [05:13<00:00,  2.17it/s, accuracy=50, loss=0.694]  \n"
     ]
    },
    {
     "name": "stdout",
     "output_type": "stream",
     "text": [
      "Epoch [51/100], Avg Loss: 0.8606, Accuracy: 77.33%, Time: 313.26s\n"
     ]
    },
    {
     "name": "stderr",
     "output_type": "stream",
     "text": [
      "Epoch [52/100]: 100%|██████████| 680/680 [05:13<00:00,  2.17it/s, accuracy=100, loss=0.697] \n"
     ]
    },
    {
     "name": "stdout",
     "output_type": "stream",
     "text": [
      "Epoch [52/100], Avg Loss: 0.8747, Accuracy: 77.57%, Time: 313.38s\n"
     ]
    },
    {
     "name": "stderr",
     "output_type": "stream",
     "text": [
      "Epoch [53/100]: 100%|██████████| 680/680 [05:13<00:00,  2.17it/s, accuracy=75, loss=0.694]  \n"
     ]
    },
    {
     "name": "stdout",
     "output_type": "stream",
     "text": [
      "Epoch [53/100], Avg Loss: 0.8584, Accuracy: 77.95%, Time: 313.58s\n"
     ]
    },
    {
     "name": "stderr",
     "output_type": "stream",
     "text": [
      "Epoch [54/100]: 100%|██████████| 680/680 [05:13<00:00,  2.17it/s, accuracy=50, loss=0.699]  \n"
     ]
    },
    {
     "name": "stdout",
     "output_type": "stream",
     "text": [
      "Epoch [54/100], Avg Loss: 0.8583, Accuracy: 77.90%, Time: 313.50s\n"
     ]
    },
    {
     "name": "stderr",
     "output_type": "stream",
     "text": [
      "Epoch [55/100]: 100%|██████████| 680/680 [05:13<00:00,  2.17it/s, accuracy=50, loss=0.695]  \n"
     ]
    },
    {
     "name": "stdout",
     "output_type": "stream",
     "text": [
      "Epoch [55/100], Avg Loss: 0.8602, Accuracy: 77.34%, Time: 313.30s\n"
     ]
    },
    {
     "name": "stderr",
     "output_type": "stream",
     "text": [
      "Epoch [56/100]: 100%|██████████| 680/680 [05:13<00:00,  2.17it/s, accuracy=75, loss=0.695]  \n"
     ]
    },
    {
     "name": "stdout",
     "output_type": "stream",
     "text": [
      "Epoch [56/100], Avg Loss: 0.8556, Accuracy: 77.76%, Time: 313.56s\n"
     ]
    },
    {
     "name": "stderr",
     "output_type": "stream",
     "text": [
      "Epoch [57/100]: 100%|██████████| 680/680 [05:13<00:00,  2.17it/s, accuracy=100, loss=0.697] \n"
     ]
    },
    {
     "name": "stdout",
     "output_type": "stream",
     "text": [
      "Epoch [57/100], Avg Loss: 0.8642, Accuracy: 77.45%, Time: 313.87s\n"
     ]
    },
    {
     "name": "stderr",
     "output_type": "stream",
     "text": [
      "Epoch [58/100]: 100%|██████████| 680/680 [05:13<00:00,  2.17it/s, accuracy=75, loss=0.704]  \n"
     ]
    },
    {
     "name": "stdout",
     "output_type": "stream",
     "text": [
      "Epoch [58/100], Avg Loss: 0.8871, Accuracy: 77.16%, Time: 313.27s\n"
     ]
    },
    {
     "name": "stderr",
     "output_type": "stream",
     "text": [
      "Epoch [59/100]: 100%|██████████| 680/680 [05:12<00:00,  2.17it/s, accuracy=50, loss=0.696]  \n"
     ]
    },
    {
     "name": "stdout",
     "output_type": "stream",
     "text": [
      "Epoch [59/100], Avg Loss: 0.8727, Accuracy: 77.25%, Time: 312.80s\n"
     ]
    },
    {
     "name": "stderr",
     "output_type": "stream",
     "text": [
      "Epoch [60/100]: 100%|██████████| 680/680 [05:13<00:00,  2.17it/s, accuracy=75, loss=0.699]  \n"
     ]
    },
    {
     "name": "stdout",
     "output_type": "stream",
     "text": [
      "Epoch [60/100], Avg Loss: 0.8566, Accuracy: 77.72%, Time: 313.12s\n"
     ]
    },
    {
     "name": "stderr",
     "output_type": "stream",
     "text": [
      "Epoch [61/100]: 100%|██████████| 680/680 [05:13<00:00,  2.17it/s, accuracy=75, loss=0.696]  \n"
     ]
    },
    {
     "name": "stdout",
     "output_type": "stream",
     "text": [
      "Epoch [61/100], Avg Loss: 0.8589, Accuracy: 77.76%, Time: 313.28s\n"
     ]
    },
    {
     "name": "stderr",
     "output_type": "stream",
     "text": [
      "Epoch [62/100]: 100%|██████████| 680/680 [05:12<00:00,  2.17it/s, accuracy=50, loss=0.695]  \n"
     ]
    },
    {
     "name": "stdout",
     "output_type": "stream",
     "text": [
      "Epoch [62/100], Avg Loss: 0.8777, Accuracy: 76.90%, Time: 312.93s\n"
     ]
    },
    {
     "name": "stderr",
     "output_type": "stream",
     "text": [
      "Epoch [63/100]: 100%|██████████| 680/680 [05:12<00:00,  2.17it/s, accuracy=100, loss=0.696] \n"
     ]
    },
    {
     "name": "stdout",
     "output_type": "stream",
     "text": [
      "Epoch [63/100], Avg Loss: 0.8996, Accuracy: 76.47%, Time: 312.78s\n"
     ]
    },
    {
     "name": "stderr",
     "output_type": "stream",
     "text": [
      "Epoch [64/100]: 100%|██████████| 680/680 [05:12<00:00,  2.17it/s, accuracy=50, loss=0.695]  \n"
     ]
    },
    {
     "name": "stdout",
     "output_type": "stream",
     "text": [
      "Epoch [64/100], Avg Loss: 0.8657, Accuracy: 77.22%, Time: 312.83s\n"
     ]
    },
    {
     "name": "stderr",
     "output_type": "stream",
     "text": [
      "Epoch [65/100]: 100%|██████████| 680/680 [05:12<00:00,  2.17it/s, accuracy=50, loss=0.694]  \n"
     ]
    },
    {
     "name": "stdout",
     "output_type": "stream",
     "text": [
      "Epoch [65/100], Avg Loss: 0.8690, Accuracy: 77.02%, Time: 312.74s\n"
     ]
    },
    {
     "name": "stderr",
     "output_type": "stream",
     "text": [
      "Epoch [66/100]: 100%|██████████| 680/680 [05:12<00:00,  2.17it/s, accuracy=100, loss=0.695] \n"
     ]
    },
    {
     "name": "stdout",
     "output_type": "stream",
     "text": [
      "Epoch [66/100], Avg Loss: 0.8677, Accuracy: 77.06%, Time: 312.85s\n"
     ]
    },
    {
     "name": "stderr",
     "output_type": "stream",
     "text": [
      "Epoch [67/100]: 100%|██████████| 680/680 [05:12<00:00,  2.18it/s, accuracy=100, loss=0.695] \n"
     ]
    },
    {
     "name": "stdout",
     "output_type": "stream",
     "text": [
      "Epoch [67/100], Avg Loss: 0.8674, Accuracy: 77.35%, Time: 312.42s\n"
     ]
    },
    {
     "name": "stderr",
     "output_type": "stream",
     "text": [
      "Epoch [68/100]: 100%|██████████| 680/680 [05:13<00:00,  2.17it/s, accuracy=100, loss=0.694] \n"
     ]
    },
    {
     "name": "stdout",
     "output_type": "stream",
     "text": [
      "Epoch [68/100], Avg Loss: 0.8589, Accuracy: 77.59%, Time: 313.62s\n"
     ]
    },
    {
     "name": "stderr",
     "output_type": "stream",
     "text": [
      "Epoch [69/100]: 100%|██████████| 680/680 [05:12<00:00,  2.17it/s, accuracy=100, loss=0.699] \n"
     ]
    },
    {
     "name": "stdout",
     "output_type": "stream",
     "text": [
      "Epoch [69/100], Avg Loss: 0.8613, Accuracy: 77.57%, Time: 312.79s\n"
     ]
    },
    {
     "name": "stderr",
     "output_type": "stream",
     "text": [
      "Epoch [70/100]: 100%|██████████| 680/680 [05:13<00:00,  2.17it/s, accuracy=100, loss=0.698] \n"
     ]
    },
    {
     "name": "stdout",
     "output_type": "stream",
     "text": [
      "Epoch [70/100], Avg Loss: 0.8616, Accuracy: 77.59%, Time: 313.07s\n"
     ]
    },
    {
     "name": "stderr",
     "output_type": "stream",
     "text": [
      "Epoch [71/100]: 100%|██████████| 680/680 [05:12<00:00,  2.17it/s, accuracy=100, loss=0.696] \n"
     ]
    },
    {
     "name": "stdout",
     "output_type": "stream",
     "text": [
      "Epoch [71/100], Avg Loss: 0.8655, Accuracy: 78.07%, Time: 312.78s\n"
     ]
    },
    {
     "name": "stderr",
     "output_type": "stream",
     "text": [
      "Epoch [72/100]: 100%|██████████| 680/680 [05:13<00:00,  2.17it/s, accuracy=75, loss=0.695]  \n"
     ]
    },
    {
     "name": "stdout",
     "output_type": "stream",
     "text": [
      "Epoch [72/100], Avg Loss: 0.8649, Accuracy: 77.89%, Time: 313.02s\n"
     ]
    },
    {
     "name": "stderr",
     "output_type": "stream",
     "text": [
      "Epoch [73/100]: 100%|██████████| 680/680 [05:12<00:00,  2.17it/s, accuracy=75, loss=0.695]  \n"
     ]
    },
    {
     "name": "stdout",
     "output_type": "stream",
     "text": [
      "Epoch [73/100], Avg Loss: 0.8595, Accuracy: 77.96%, Time: 312.89s\n"
     ]
    },
    {
     "name": "stderr",
     "output_type": "stream",
     "text": [
      "Epoch [74/100]: 100%|██████████| 680/680 [05:12<00:00,  2.17it/s, accuracy=75, loss=0.695]  \n"
     ]
    },
    {
     "name": "stdout",
     "output_type": "stream",
     "text": [
      "Epoch [74/100], Avg Loss: 0.8618, Accuracy: 77.56%, Time: 312.79s\n"
     ]
    },
    {
     "name": "stderr",
     "output_type": "stream",
     "text": [
      "Epoch [75/100]: 100%|██████████| 680/680 [05:12<00:00,  2.17it/s, accuracy=75, loss=0.701]  \n"
     ]
    },
    {
     "name": "stdout",
     "output_type": "stream",
     "text": [
      "Epoch [75/100], Avg Loss: 0.8594, Accuracy: 77.65%, Time: 312.90s\n"
     ]
    },
    {
     "name": "stderr",
     "output_type": "stream",
     "text": [
      "Epoch [76/100]: 100%|██████████| 680/680 [05:12<00:00,  2.17it/s, accuracy=75, loss=0.695]  \n"
     ]
    },
    {
     "name": "stdout",
     "output_type": "stream",
     "text": [
      "Epoch [76/100], Avg Loss: 0.8611, Accuracy: 77.81%, Time: 312.99s\n"
     ]
    },
    {
     "name": "stderr",
     "output_type": "stream",
     "text": [
      "Epoch [77/100]: 100%|██████████| 680/680 [05:12<00:00,  2.17it/s, accuracy=100, loss=0.694] \n"
     ]
    },
    {
     "name": "stdout",
     "output_type": "stream",
     "text": [
      "Epoch [77/100], Avg Loss: 0.8727, Accuracy: 77.30%, Time: 312.88s\n"
     ]
    },
    {
     "name": "stderr",
     "output_type": "stream",
     "text": [
      "Epoch [78/100]: 100%|██████████| 680/680 [05:12<00:00,  2.17it/s, accuracy=100, loss=0.695] \n"
     ]
    },
    {
     "name": "stdout",
     "output_type": "stream",
     "text": [
      "Epoch [78/100], Avg Loss: 0.8521, Accuracy: 77.85%, Time: 312.93s\n"
     ]
    },
    {
     "name": "stderr",
     "output_type": "stream",
     "text": [
      "Epoch [79/100]: 100%|██████████| 680/680 [05:13<00:00,  2.17it/s, accuracy=75, loss=0.696]  \n"
     ]
    },
    {
     "name": "stdout",
     "output_type": "stream",
     "text": [
      "Epoch [79/100], Avg Loss: 0.8526, Accuracy: 77.96%, Time: 313.28s\n"
     ]
    },
    {
     "name": "stderr",
     "output_type": "stream",
     "text": [
      "Epoch [80/100]: 100%|██████████| 680/680 [05:12<00:00,  2.17it/s, accuracy=100, loss=0.696] \n"
     ]
    },
    {
     "name": "stdout",
     "output_type": "stream",
     "text": [
      "Epoch [80/100], Avg Loss: 0.8607, Accuracy: 77.44%, Time: 312.83s\n"
     ]
    },
    {
     "name": "stderr",
     "output_type": "stream",
     "text": [
      "Epoch [81/100]: 100%|██████████| 680/680 [05:12<00:00,  2.18it/s, accuracy=75, loss=0.696]  \n"
     ]
    },
    {
     "name": "stdout",
     "output_type": "stream",
     "text": [
      "Epoch [81/100], Avg Loss: 0.8672, Accuracy: 77.26%, Time: 312.45s\n"
     ]
    },
    {
     "name": "stderr",
     "output_type": "stream",
     "text": [
      "Epoch [82/100]: 100%|██████████| 680/680 [05:12<00:00,  2.18it/s, accuracy=50, loss=0.695]  \n"
     ]
    },
    {
     "name": "stdout",
     "output_type": "stream",
     "text": [
      "Epoch [82/100], Avg Loss: 0.8790, Accuracy: 77.34%, Time: 312.59s\n"
     ]
    },
    {
     "name": "stderr",
     "output_type": "stream",
     "text": [
      "Epoch [83/100]: 100%|██████████| 680/680 [05:12<00:00,  2.17it/s, accuracy=100, loss=0.7]   \n"
     ]
    },
    {
     "name": "stdout",
     "output_type": "stream",
     "text": [
      "Epoch [83/100], Avg Loss: 0.8750, Accuracy: 77.22%, Time: 312.90s\n"
     ]
    },
    {
     "name": "stderr",
     "output_type": "stream",
     "text": [
      "Epoch [84/100]: 100%|██████████| 680/680 [05:12<00:00,  2.18it/s, accuracy=100, loss=0.695] \n"
     ]
    },
    {
     "name": "stdout",
     "output_type": "stream",
     "text": [
      "Epoch [84/100], Avg Loss: 0.8657, Accuracy: 77.76%, Time: 312.61s\n"
     ]
    },
    {
     "name": "stderr",
     "output_type": "stream",
     "text": [
      "Epoch [85/100]: 100%|██████████| 680/680 [05:12<00:00,  2.18it/s, accuracy=100, loss=0.699] \n"
     ]
    },
    {
     "name": "stdout",
     "output_type": "stream",
     "text": [
      "Epoch [85/100], Avg Loss: 0.8617, Accuracy: 78.07%, Time: 312.58s\n"
     ]
    },
    {
     "name": "stderr",
     "output_type": "stream",
     "text": [
      "Epoch [86/100]: 100%|██████████| 680/680 [05:13<00:00,  2.17it/s, accuracy=75, loss=0.695]  \n"
     ]
    },
    {
     "name": "stdout",
     "output_type": "stream",
     "text": [
      "Epoch [86/100], Avg Loss: 0.8630, Accuracy: 77.70%, Time: 313.05s\n"
     ]
    },
    {
     "name": "stderr",
     "output_type": "stream",
     "text": [
      "Epoch [87/100]: 100%|██████████| 680/680 [05:12<00:00,  2.18it/s, accuracy=75, loss=0.694]  \n"
     ]
    },
    {
     "name": "stdout",
     "output_type": "stream",
     "text": [
      "Epoch [87/100], Avg Loss: 1.0582, Accuracy: 73.02%, Time: 312.28s\n"
     ]
    },
    {
     "name": "stderr",
     "output_type": "stream",
     "text": [
      "Epoch [88/100]: 100%|██████████| 680/680 [05:12<00:00,  2.17it/s, accuracy=75, loss=0.728]  \n"
     ]
    },
    {
     "name": "stdout",
     "output_type": "stream",
     "text": [
      "Epoch [88/100], Avg Loss: 0.9406, Accuracy: 75.60%, Time: 312.71s\n"
     ]
    },
    {
     "name": "stderr",
     "output_type": "stream",
     "text": [
      "Epoch [89/100]: 100%|██████████| 680/680 [05:12<00:00,  2.18it/s, accuracy=75, loss=0.699]  \n"
     ]
    },
    {
     "name": "stdout",
     "output_type": "stream",
     "text": [
      "Epoch [89/100], Avg Loss: 0.9289, Accuracy: 75.68%, Time: 312.25s\n"
     ]
    },
    {
     "name": "stderr",
     "output_type": "stream",
     "text": [
      "Epoch [90/100]: 100%|██████████| 680/680 [05:12<00:00,  2.17it/s, accuracy=100, loss=0.702] \n"
     ]
    },
    {
     "name": "stdout",
     "output_type": "stream",
     "text": [
      "Epoch [90/100], Avg Loss: 0.9517, Accuracy: 75.36%, Time: 312.79s\n"
     ]
    },
    {
     "name": "stderr",
     "output_type": "stream",
     "text": [
      "Epoch [91/100]: 100%|██████████| 680/680 [05:12<00:00,  2.17it/s, accuracy=100, loss=0.696] \n"
     ]
    },
    {
     "name": "stdout",
     "output_type": "stream",
     "text": [
      "Epoch [91/100], Avg Loss: 0.9388, Accuracy: 75.34%, Time: 312.72s\n"
     ]
    },
    {
     "name": "stderr",
     "output_type": "stream",
     "text": [
      "Epoch [92/100]: 100%|██████████| 680/680 [05:12<00:00,  2.18it/s, accuracy=75, loss=0.695]  \n"
     ]
    },
    {
     "name": "stdout",
     "output_type": "stream",
     "text": [
      "Epoch [92/100], Avg Loss: 0.9375, Accuracy: 75.42%, Time: 312.48s\n"
     ]
    },
    {
     "name": "stderr",
     "output_type": "stream",
     "text": [
      "Epoch [93/100]: 100%|██████████| 680/680 [05:12<00:00,  2.17it/s, accuracy=100, loss=0.696] \n"
     ]
    },
    {
     "name": "stdout",
     "output_type": "stream",
     "text": [
      "Epoch [93/100], Avg Loss: 0.9468, Accuracy: 75.38%, Time: 312.79s\n"
     ]
    },
    {
     "name": "stderr",
     "output_type": "stream",
     "text": [
      "Epoch [94/100]: 100%|██████████| 680/680 [05:12<00:00,  2.17it/s, accuracy=75, loss=0.694]  \n"
     ]
    },
    {
     "name": "stdout",
     "output_type": "stream",
     "text": [
      "Epoch [94/100], Avg Loss: 0.9359, Accuracy: 75.28%, Time: 312.82s\n"
     ]
    },
    {
     "name": "stderr",
     "output_type": "stream",
     "text": [
      "Epoch [95/100]: 100%|██████████| 680/680 [05:12<00:00,  2.17it/s, accuracy=100, loss=0.694] \n"
     ]
    },
    {
     "name": "stdout",
     "output_type": "stream",
     "text": [
      "Epoch [95/100], Avg Loss: 0.9209, Accuracy: 75.90%, Time: 312.75s\n"
     ]
    },
    {
     "name": "stderr",
     "output_type": "stream",
     "text": [
      "Epoch [96/100]: 100%|██████████| 680/680 [05:12<00:00,  2.17it/s, accuracy=100, loss=0.695] \n"
     ]
    },
    {
     "name": "stdout",
     "output_type": "stream",
     "text": [
      "Epoch [96/100], Avg Loss: 0.9047, Accuracy: 77.07%, Time: 312.68s\n"
     ]
    },
    {
     "name": "stderr",
     "output_type": "stream",
     "text": [
      "Epoch [97/100]: 100%|██████████| 680/680 [05:12<00:00,  2.18it/s, accuracy=100, loss=0.72]  \n"
     ]
    },
    {
     "name": "stdout",
     "output_type": "stream",
     "text": [
      "Epoch [97/100], Avg Loss: 0.9094, Accuracy: 76.40%, Time: 312.23s\n"
     ]
    },
    {
     "name": "stderr",
     "output_type": "stream",
     "text": [
      "Epoch [98/100]: 100%|██████████| 680/680 [05:12<00:00,  2.18it/s, accuracy=75, loss=0.698]  \n"
     ]
    },
    {
     "name": "stdout",
     "output_type": "stream",
     "text": [
      "Epoch [98/100], Avg Loss: 0.9042, Accuracy: 76.90%, Time: 312.54s\n"
     ]
    },
    {
     "name": "stderr",
     "output_type": "stream",
     "text": [
      "Epoch [99/100]: 100%|██████████| 680/680 [05:12<00:00,  2.18it/s, accuracy=25, loss=0.702]  \n"
     ]
    },
    {
     "name": "stdout",
     "output_type": "stream",
     "text": [
      "Epoch [99/100], Avg Loss: 0.9159, Accuracy: 76.07%, Time: 312.44s\n"
     ]
    },
    {
     "name": "stderr",
     "output_type": "stream",
     "text": [
      "Epoch [100/100]: 100%|██████████| 680/680 [05:12<00:00,  2.18it/s, accuracy=75, loss=0.695]  "
     ]
    },
    {
     "name": "stdout",
     "output_type": "stream",
     "text": [
      "Epoch [100/100], Avg Loss: 0.9015, Accuracy: 76.91%, Time: 312.36s\n"
     ]
    },
    {
     "name": "stderr",
     "output_type": "stream",
     "text": [
      "\n"
     ]
    }
   ],
   "source": [
    "# Training loop for 100 epochs with accurate loss and accuracy calculation\n",
    "num_epochs = 100\n",
    "for epoch in range(num_epochs):\n",
    "    model_with_dropout.train()\n",
    "    total_loss = 0\n",
    "    total_accuracy = 0\n",
    "    start_time = time.time()\n",
    "    \n",
    "    # Progress bar for the current epoch\n",
    "    progress_bar = tqdm(train_loader, desc=f\"Epoch [{epoch+1}/{num_epochs}]\")\n",
    "    \n",
    "    for batch in progress_bar:\n",
    "        x_q = batch.cuda()\n",
    "        x_k = batch.cuda()  # Ideally, different augmentations should be applied here for MoCo\n",
    "\n",
    "        # Forward pass through MoCo model\n",
    "        q, k = model_with_dropout(x_q, x_k)\n",
    "\n",
    "        # Calculate contrastive loss and accuracy\n",
    "        loss, accuracy = contrastive_loss_with_accuracy(q, k)\n",
    "\n",
    "        # Backpropagation and optimization\n",
    "        optimizer.zero_grad()\n",
    "        loss.backward()\n",
    "        optimizer.step()\n",
    "\n",
    "        total_loss += loss.item()\n",
    "        total_accuracy += accuracy\n",
    "        progress_bar.set_postfix(loss=loss.item(), accuracy=accuracy * 100)\n",
    "    \n",
    "    avg_loss = total_loss / len(train_loader)\n",
    "    avg_accuracy = total_accuracy / len(train_loader)\n",
    "    elapsed_time = time.time() - start_time\n",
    "    print(f\"Epoch [{epoch+1}/{num_epochs}], Avg Loss: {avg_loss:.4f}, Accuracy: {avg_accuracy*100:.2f}%, Time: {elapsed_time:.2f}s\")"
   ]
  },
  {
   "cell_type": "code",
   "execution_count": 21,
   "metadata": {
    "execution": {
     "iopub.execute_input": "2024-11-14T16:35:46.334770Z",
     "iopub.status.busy": "2024-11-14T16:35:46.333909Z",
     "iopub.status.idle": "2024-11-14T16:35:46.516897Z",
     "shell.execute_reply": "2024-11-14T16:35:46.515743Z",
     "shell.execute_reply.started": "2024-11-14T16:35:46.334731Z"
    }
   },
   "outputs": [
    {
     "name": "stdout",
     "output_type": "stream",
     "text": [
      "model saved\n"
     ]
    }
   ],
   "source": [
    "# Saving the model in different formats after all epochs\n",
    "def save_model(model):\n",
    "    torch.save(model.state_dict(), \"MOCO_model_weights_final.pth\")\n",
    "    torch.save(model, \"MOCO_full_model_final.pth\")\n",
    "    with h5py.File(\"MOCO_model_weights_final.h5\", 'w') as f:\n",
    "        for name, param in model.named_parameters():\n",
    "            f.create_dataset(name, data=param.cpu().detach().numpy())\n",
    "\n",
    "# Save model after training completes\n",
    "save_model(model_with_dropout)\n",
    "\n",
    "print(\"model saved\")"
   ]
  },
  {
   "cell_type": "code",
   "execution_count": null,
   "metadata": {},
   "outputs": [],
   "source": []
  }
 ],
 "metadata": {
  "kaggle": {
   "accelerator": "nvidiaTeslaT4",
   "dataSources": [
    {
     "datasetId": 5832077,
     "sourceId": 9568542,
     "sourceType": "datasetVersion"
    }
   ],
   "dockerImageVersionId": 30787,
   "isGpuEnabled": true,
   "isInternetEnabled": true,
   "language": "python",
   "sourceType": "notebook"
  },
  "kernelspec": {
   "display_name": "Python 3 (ipykernel)",
   "language": "python",
   "name": "python3"
  },
  "language_info": {
   "codemirror_mode": {
    "name": "ipython",
    "version": 3
   },
   "file_extension": ".py",
   "mimetype": "text/x-python",
   "name": "python",
   "nbconvert_exporter": "python",
   "pygments_lexer": "ipython3",
   "version": "3.12.6"
  },
  "widgets": {
   "application/vnd.jupyter.widget-state+json": {
    "state": {},
    "version_major": 2,
    "version_minor": 0
   }
  }
 },
 "nbformat": 4,
 "nbformat_minor": 4
}
