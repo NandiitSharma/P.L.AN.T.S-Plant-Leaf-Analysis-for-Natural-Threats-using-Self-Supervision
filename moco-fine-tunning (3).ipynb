{
 "cells": [
  {
   "cell_type": "code",
   "execution_count": 1,
   "metadata": {
    "execution": {
     "iopub.execute_input": "2024-11-15T06:25:20.246168Z",
     "iopub.status.busy": "2024-11-15T06:25:20.245713Z",
     "iopub.status.idle": "2024-11-15T06:25:25.419250Z",
     "shell.execute_reply": "2024-11-15T06:25:25.418227Z",
     "shell.execute_reply.started": "2024-11-15T06:25:20.246078Z"
    }
   },
   "outputs": [],
   "source": [
    "import torch\n",
    "import torch.nn as nn\n",
    "import torchvision.transforms as transforms\n",
    "from torchvision.datasets import ImageFolder\n",
    "from torch.utils.data import DataLoader\n",
    "from torchvision import models\n",
    "import h5py\n",
    "import numpy as np\n",
    "from sklearn.metrics import precision_score, recall_score, f1_score\n",
    "from tqdm import tqdm  # Import tqdm for the progress bar\n",
    "import os  # Add this import at the beginning of your script"
   ]
  },
  {
   "cell_type": "code",
   "execution_count": 2,
   "metadata": {
    "execution": {
     "iopub.execute_input": "2024-11-15T06:32:49.048797Z",
     "iopub.status.busy": "2024-11-15T06:32:49.047637Z",
     "iopub.status.idle": "2024-11-15T06:32:49.055388Z",
     "shell.execute_reply": "2024-11-15T06:32:49.054440Z",
     "shell.execute_reply.started": "2024-11-15T06:32:49.048750Z"
    }
   },
   "outputs": [],
   "source": [
    "# Load PlantVillage dataset\n",
    "root_dir = '/kaggle/input/plantvillage/PlantVillage'  # Update with actual path\n",
    "train_transform = transforms.Compose([\n",
    "    transforms.RandomResizedCrop(224),\n",
    "    transforms.RandomHorizontalFlip(),\n",
    "    transforms.ToTensor(),\n",
    "    transforms.Normalize(mean=[0.485, 0.456, 0.406], std=[0.229, 0.224, 0.225])\n",
    "])\n",
    "val_transform = transforms.Compose([\n",
    "    transforms.Resize((224, 224)),\n",
    "    transforms.ToTensor(),\n",
    "    transforms.Normalize(mean=[0.485, 0.456, 0.406], std=[0.229, 0.224, 0.225])\n",
    "])\n"
   ]
  },
  {
   "cell_type": "code",
   "execution_count": 3,
   "metadata": {
    "execution": {
     "iopub.execute_input": "2024-11-15T06:32:49.715361Z",
     "iopub.status.busy": "2024-11-15T06:32:49.714745Z",
     "iopub.status.idle": "2024-11-15T06:33:18.654829Z",
     "shell.execute_reply": "2024-11-15T06:33:18.653816Z",
     "shell.execute_reply.started": "2024-11-15T06:32:49.715319Z"
    }
   },
   "outputs": [
    {
     "name": "stderr",
     "output_type": "stream",
     "text": [
      "/opt/conda/lib/python3.10/site-packages/torch/utils/data/dataloader.py:557: UserWarning: This DataLoader will create 8 worker processes in total. Our suggested max number of worker in current system is 4, which is smaller than what this DataLoader is going to create. Please be aware that excessive worker creation might get DataLoader running slow or even freeze, lower the worker number to avoid potential slowness/freeze if necessary.\n",
      "  warnings.warn(_create_warning_msg(\n"
     ]
    }
   ],
   "source": [
    "train_dataset = ImageFolder(root=os.path.join(root_dir, 'train'), transform=train_transform)\n",
    "val_dataset = ImageFolder(root=os.path.join(root_dir, 'val'), transform=val_transform)\n",
    "\n",
    "train_loader = DataLoader(train_dataset, batch_size=64, shuffle=True, num_workers=8)\n",
    "val_loader = DataLoader(val_dataset, batch_size=64, shuffle=False, num_workers=8)\n"
   ]
  },
  {
   "cell_type": "code",
   "execution_count": 4,
   "metadata": {
    "execution": {
     "iopub.execute_input": "2024-11-15T06:33:18.657388Z",
     "iopub.status.busy": "2024-11-15T06:33:18.656639Z",
     "iopub.status.idle": "2024-11-15T06:33:18.664522Z",
     "shell.execute_reply": "2024-11-15T06:33:18.663564Z",
     "shell.execute_reply.started": "2024-11-15T06:33:18.657339Z"
    }
   },
   "outputs": [],
   "source": [
    "# Load the pretrained model from the .h5 file\n",
    "class FineTunedModel(nn.Module):\n",
    "    def __init__(self, num_classes=38):\n",
    "        super(FineTunedModel, self).__init__()\n",
    "        # Load pretrained MobileNet\n",
    "        self.base_model = models.mobilenet_v2(pretrained=False)\n",
    "        self.base_model.classifier = nn.Linear(self.base_model.last_channel, num_classes)\n",
    "\n",
    "        # Load weights from .h5\n",
    "        with h5py.File(\"/kaggle/input/h5file/MOCO_model_weights_final.h5\", 'r') as f:\n",
    "            for name, param in self.base_model.named_parameters():\n",
    "                if name in f:\n",
    "                    param.data.copy_(torch.tensor(np.array(f[name])))\n",
    "\n",
    "    def forward(self, x):\n",
    "        return self.base_model(x)"
   ]
  },
  {
   "cell_type": "code",
   "execution_count": 5,
   "metadata": {
    "execution": {
     "iopub.execute_input": "2024-11-15T06:33:18.666593Z",
     "iopub.status.busy": "2024-11-15T06:33:18.665907Z",
     "iopub.status.idle": "2024-11-15T06:33:19.020333Z",
     "shell.execute_reply": "2024-11-15T06:33:19.019517Z",
     "shell.execute_reply.started": "2024-11-15T06:33:18.666548Z"
    }
   },
   "outputs": [
    {
     "name": "stderr",
     "output_type": "stream",
     "text": [
      "/opt/conda/lib/python3.10/site-packages/torchvision/models/_utils.py:208: UserWarning: The parameter 'pretrained' is deprecated since 0.13 and may be removed in the future, please use 'weights' instead.\n",
      "  warnings.warn(\n",
      "/opt/conda/lib/python3.10/site-packages/torchvision/models/_utils.py:223: UserWarning: Arguments other than a weight enum or `None` for 'weights' are deprecated since 0.13 and may be removed in the future. The current behavior is equivalent to passing `weights=None`.\n",
      "  warnings.warn(msg)\n"
     ]
    }
   ],
   "source": [
    "# Initialize the fine-tuned model\n",
    "num_classes = len(train_dataset.classes)\n",
    "model = FineTunedModel(num_classes=num_classes).cuda()\n"
   ]
  },
  {
   "cell_type": "code",
   "execution_count": 6,
   "metadata": {
    "execution": {
     "iopub.execute_input": "2024-11-15T06:33:19.023758Z",
     "iopub.status.busy": "2024-11-15T06:33:19.022708Z",
     "iopub.status.idle": "2024-11-15T06:33:19.029780Z",
     "shell.execute_reply": "2024-11-15T06:33:19.028891Z",
     "shell.execute_reply.started": "2024-11-15T06:33:19.023706Z"
    }
   },
   "outputs": [],
   "source": [
    "# Define loss function and optimizer\n",
    "criterion = nn.CrossEntropyLoss()\n",
    "optimizer = torch.optim.AdamW(model.parameters(), lr=0.01, weight_decay=0.01)\n"
   ]
  },
  {
   "cell_type": "code",
   "execution_count": 7,
   "metadata": {
    "execution": {
     "iopub.execute_input": "2024-11-15T06:33:19.031153Z",
     "iopub.status.busy": "2024-11-15T06:33:19.030850Z",
     "iopub.status.idle": "2024-11-15T07:22:19.711571Z",
     "shell.execute_reply": "2024-11-15T07:22:19.710443Z",
     "shell.execute_reply.started": "2024-11-15T06:33:19.031121Z"
    }
   },
   "outputs": [
    {
     "name": "stderr",
     "output_type": "stream",
     "text": [
      "Epoch [1/25]: 100%|██████████| 679/679 [01:59<00:00,  5.70it/s, loss=1.48]\n"
     ]
    },
    {
     "name": "stdout",
     "output_type": "stream",
     "text": [
      "Epoch [1/25], Avg Loss: 2.2803, Training Accuracy: 37.81%\n"
     ]
    },
    {
     "name": "stderr",
     "output_type": "stream",
     "text": [
      "Epoch [2/25]: 100%|██████████| 679/679 [01:57<00:00,  5.79it/s, loss=1.01] \n"
     ]
    },
    {
     "name": "stdout",
     "output_type": "stream",
     "text": [
      "Epoch [2/25], Avg Loss: 1.2754, Training Accuracy: 61.61%\n"
     ]
    },
    {
     "name": "stderr",
     "output_type": "stream",
     "text": [
      "Epoch [3/25]: 100%|██████████| 679/679 [01:57<00:00,  5.78it/s, loss=0.761]\n"
     ]
    },
    {
     "name": "stdout",
     "output_type": "stream",
     "text": [
      "Epoch [3/25], Avg Loss: 0.8551, Training Accuracy: 73.46%\n"
     ]
    },
    {
     "name": "stderr",
     "output_type": "stream",
     "text": [
      "Epoch [4/25]: 100%|██████████| 679/679 [01:57<00:00,  5.78it/s, loss=0.627]\n"
     ]
    },
    {
     "name": "stdout",
     "output_type": "stream",
     "text": [
      "Epoch [4/25], Avg Loss: 0.6227, Training Accuracy: 80.38%\n"
     ]
    },
    {
     "name": "stderr",
     "output_type": "stream",
     "text": [
      "Epoch [5/25]: 100%|██████████| 679/679 [01:57<00:00,  5.78it/s, loss=0.399]\n"
     ]
    },
    {
     "name": "stdout",
     "output_type": "stream",
     "text": [
      "Epoch [5/25], Avg Loss: 0.5105, Training Accuracy: 83.76%\n"
     ]
    },
    {
     "name": "stderr",
     "output_type": "stream",
     "text": [
      "Epoch [6/25]: 100%|██████████| 679/679 [01:57<00:00,  5.78it/s, loss=0.421]\n"
     ]
    },
    {
     "name": "stdout",
     "output_type": "stream",
     "text": [
      "Epoch [6/25], Avg Loss: 0.4495, Training Accuracy: 85.70%\n"
     ]
    },
    {
     "name": "stderr",
     "output_type": "stream",
     "text": [
      "Epoch [7/25]: 100%|██████████| 679/679 [01:57<00:00,  5.78it/s, loss=0.469]\n"
     ]
    },
    {
     "name": "stdout",
     "output_type": "stream",
     "text": [
      "Epoch [7/25], Avg Loss: 0.3847, Training Accuracy: 87.96%\n"
     ]
    },
    {
     "name": "stderr",
     "output_type": "stream",
     "text": [
      "Epoch [8/25]: 100%|██████████| 679/679 [01:57<00:00,  5.76it/s, loss=0.392]\n"
     ]
    },
    {
     "name": "stdout",
     "output_type": "stream",
     "text": [
      "Epoch [8/25], Avg Loss: 0.3638, Training Accuracy: 88.30%\n"
     ]
    },
    {
     "name": "stderr",
     "output_type": "stream",
     "text": [
      "Epoch [9/25]: 100%|██████████| 679/679 [01:57<00:00,  5.77it/s, loss=0.388] \n"
     ]
    },
    {
     "name": "stdout",
     "output_type": "stream",
     "text": [
      "Epoch [9/25], Avg Loss: 0.3181, Training Accuracy: 89.82%\n"
     ]
    },
    {
     "name": "stderr",
     "output_type": "stream",
     "text": [
      "Epoch [10/25]: 100%|██████████| 679/679 [01:57<00:00,  5.77it/s, loss=0.251] \n"
     ]
    },
    {
     "name": "stdout",
     "output_type": "stream",
     "text": [
      "Epoch [10/25], Avg Loss: 0.2958, Training Accuracy: 90.62%\n"
     ]
    },
    {
     "name": "stderr",
     "output_type": "stream",
     "text": [
      "Epoch [11/25]: 100%|██████████| 679/679 [01:57<00:00,  5.76it/s, loss=0.498] \n"
     ]
    },
    {
     "name": "stdout",
     "output_type": "stream",
     "text": [
      "Epoch [11/25], Avg Loss: 0.2788, Training Accuracy: 91.04%\n"
     ]
    },
    {
     "name": "stderr",
     "output_type": "stream",
     "text": [
      "Epoch [13/25]: 100%|██████████| 679/679 [01:57<00:00,  5.78it/s, loss=0.0992]\n"
     ]
    },
    {
     "name": "stdout",
     "output_type": "stream",
     "text": [
      "Epoch [13/25], Avg Loss: 0.2442, Training Accuracy: 92.16%\n"
     ]
    },
    {
     "name": "stderr",
     "output_type": "stream",
     "text": [
      "Epoch [14/25]: 100%|██████████| 679/679 [01:57<00:00,  5.76it/s, loss=0.245] \n"
     ]
    },
    {
     "name": "stdout",
     "output_type": "stream",
     "text": [
      "Epoch [14/25], Avg Loss: 0.2273, Training Accuracy: 92.74%\n"
     ]
    },
    {
     "name": "stderr",
     "output_type": "stream",
     "text": [
      "Epoch [15/25]: 100%|██████████| 679/679 [01:57<00:00,  5.77it/s, loss=0.167] \n"
     ]
    },
    {
     "name": "stdout",
     "output_type": "stream",
     "text": [
      "Epoch [15/25], Avg Loss: 0.2211, Training Accuracy: 92.95%\n"
     ]
    },
    {
     "name": "stderr",
     "output_type": "stream",
     "text": [
      "Epoch [16/25]: 100%|██████████| 679/679 [01:57<00:00,  5.78it/s, loss=0.293] \n"
     ]
    },
    {
     "name": "stdout",
     "output_type": "stream",
     "text": [
      "Epoch [16/25], Avg Loss: 0.2106, Training Accuracy: 93.18%\n"
     ]
    },
    {
     "name": "stderr",
     "output_type": "stream",
     "text": [
      "Epoch [17/25]: 100%|██████████| 679/679 [01:57<00:00,  5.78it/s, loss=0.168] \n"
     ]
    },
    {
     "name": "stdout",
     "output_type": "stream",
     "text": [
      "Epoch [17/25], Avg Loss: 0.1943, Training Accuracy: 93.64%\n"
     ]
    },
    {
     "name": "stderr",
     "output_type": "stream",
     "text": [
      "Epoch [18/25]: 100%|██████████| 679/679 [01:57<00:00,  5.77it/s, loss=0.0862]\n"
     ]
    },
    {
     "name": "stdout",
     "output_type": "stream",
     "text": [
      "Epoch [18/25], Avg Loss: 0.1928, Training Accuracy: 93.75%\n"
     ]
    },
    {
     "name": "stderr",
     "output_type": "stream",
     "text": [
      "Epoch [19/25]: 100%|██████████| 679/679 [01:57<00:00,  5.78it/s, loss=0.321] \n"
     ]
    },
    {
     "name": "stdout",
     "output_type": "stream",
     "text": [
      "Epoch [19/25], Avg Loss: 0.1808, Training Accuracy: 94.23%\n"
     ]
    },
    {
     "name": "stderr",
     "output_type": "stream",
     "text": [
      "Epoch [20/25]: 100%|██████████| 679/679 [01:57<00:00,  5.78it/s, loss=0.164]  \n"
     ]
    },
    {
     "name": "stdout",
     "output_type": "stream",
     "text": [
      "Epoch [20/25], Avg Loss: 0.1757, Training Accuracy: 94.29%\n"
     ]
    },
    {
     "name": "stderr",
     "output_type": "stream",
     "text": [
      "Epoch [21/25]: 100%|██████████| 679/679 [01:57<00:00,  5.78it/s, loss=0.0843]\n"
     ]
    },
    {
     "name": "stdout",
     "output_type": "stream",
     "text": [
      "Epoch [21/25], Avg Loss: 0.1734, Training Accuracy: 94.36%\n"
     ]
    },
    {
     "name": "stderr",
     "output_type": "stream",
     "text": [
      "Epoch [22/25]: 100%|██████████| 679/679 [01:57<00:00,  5.79it/s, loss=0.224] \n"
     ]
    },
    {
     "name": "stdout",
     "output_type": "stream",
     "text": [
      "Epoch [22/25], Avg Loss: 0.1732, Training Accuracy: 94.39%\n"
     ]
    },
    {
     "name": "stderr",
     "output_type": "stream",
     "text": [
      "Epoch [23/25]: 100%|██████████| 679/679 [01:57<00:00,  5.77it/s, loss=0.223] \n"
     ]
    },
    {
     "name": "stdout",
     "output_type": "stream",
     "text": [
      "Epoch [23/25], Avg Loss: 0.1625, Training Accuracy: 94.77%\n"
     ]
    },
    {
     "name": "stderr",
     "output_type": "stream",
     "text": [
      "Epoch [24/25]: 100%|██████████| 679/679 [01:57<00:00,  5.78it/s, loss=0.192] \n"
     ]
    },
    {
     "name": "stdout",
     "output_type": "stream",
     "text": [
      "Epoch [24/25], Avg Loss: 0.1610, Training Accuracy: 94.73%\n"
     ]
    },
    {
     "name": "stderr",
     "output_type": "stream",
     "text": [
      "Epoch [25/25]: 100%|██████████| 679/679 [01:57<00:00,  5.77it/s, loss=0.179] "
     ]
    },
    {
     "name": "stdout",
     "output_type": "stream",
     "text": [
      "Epoch [25/25], Avg Loss: 0.1524, Training Accuracy: 95.04%\n"
     ]
    },
    {
     "name": "stderr",
     "output_type": "stream",
     "text": [
      "\n"
     ]
    }
   ],
   "source": [
    "# Fine-tuning loop with progress bar\n",
    "num_epochs = 30 # Adjust as needed\n",
    "for epoch in range(num_epochs):\n",
    "    model.train()\n",
    "    total_loss = 0\n",
    "    correct = 0\n",
    "    total = 0\n",
    "\n",
    "    # Progress bar for training\n",
    "    progress_bar = tqdm(train_loader, desc=f\"Epoch [{epoch+1}/{num_epochs}]\")\n",
    "\n",
    "    # Training\n",
    "    for images, labels in progress_bar:\n",
    "        images, labels = images.cuda(), labels.cuda()\n",
    "\n",
    "        # Forward pass\n",
    "        outputs = model(images)\n",
    "        loss = criterion(outputs, labels)\n",
    "\n",
    "        # Backward pass and optimization\n",
    "        optimizer.zero_grad()\n",
    "        loss.backward()\n",
    "        optimizer.step()\n",
    "\n",
    "        total_loss += loss.item()\n",
    "        _, predicted = torch.max(outputs.data, 1)\n",
    "        total += labels.size(0)\n",
    "        correct += (predicted == labels).sum().item()\n",
    "\n",
    "        # Update progress bar\n",
    "        progress_bar.set_postfix(loss=loss.item())\n",
    "\n",
    "    train_accuracy = 100 * correct / total\n",
    "    avg_loss = total_loss / len(train_loader)\n",
    "    print(f\"Epoch [{epoch+1}/{num_epochs}], Avg Loss: {avg_loss:.4f}, Training Accuracy: {train_accuracy:.2f}%\")"
   ]
  },
  {
   "cell_type": "code",
   "execution_count": 8,
   "metadata": {
    "execution": {
     "iopub.execute_input": "2024-11-15T07:22:19.714650Z",
     "iopub.status.busy": "2024-11-15T07:22:19.713656Z",
     "iopub.status.idle": "2024-11-15T07:22:38.790559Z",
     "shell.execute_reply": "2024-11-15T07:22:38.789453Z",
     "shell.execute_reply.started": "2024-11-15T07:22:19.714595Z"
    }
   },
   "outputs": [
    {
     "name": "stdout",
     "output_type": "stream",
     "text": [
      "Epoch [25/25], Validation Accuracy: 96.92%, Precision: 0.9642, Recall: 0.9599, F1 Score: 0.9611\n"
     ]
    }
   ],
   "source": [
    "# Validation\n",
    "model.eval()\n",
    "all_labels = []\n",
    "all_predictions = []\n",
    "\n",
    "with torch.no_grad():\n",
    "    for images, labels in val_loader:\n",
    "        images, labels = images.cuda(), labels.cuda()\n",
    "        outputs = model(images)\n",
    "        _, predicted = torch.max(outputs.data, 1)\n",
    "\n",
    "        # Store labels and predictions for metrics calculation\n",
    "        all_labels.extend(labels.cpu().numpy())\n",
    "        all_predictions.extend(predicted.cpu().numpy())\n",
    "\n",
    "# Calculate metrics\n",
    "val_accuracy = 100 * (sum(np.array(all_predictions) == np.array(all_labels)) / len(all_labels))\n",
    "precision = precision_score(all_labels, all_predictions, average='macro')  # Macro for multi-class\n",
    "recall = recall_score(all_labels, all_predictions, average='macro')        # Macro for multi-class\n",
    "f1 = f1_score(all_labels, all_predictions, average='macro')                # Macro for multi-class\n",
    "\n",
    "# Print metrics\n",
    "print(f\"Epoch [{epoch+1}/{num_epochs}], Validation Accuracy: {val_accuracy:.2f}%, \"\n",
    "      f\"Precision: {precision:.4f}, Recall: {recall:.4f}, F1 Score: {f1:.4f}\")"
   ]
  },
  {
   "cell_type": "code",
   "execution_count": 12,
   "metadata": {
    "execution": {
     "iopub.execute_input": "2024-11-15T07:25:39.476654Z",
     "iopub.status.busy": "2024-11-15T07:25:39.475894Z",
     "iopub.status.idle": "2024-11-15T07:25:39.531901Z",
     "shell.execute_reply": "2024-11-15T07:25:39.531117Z",
     "shell.execute_reply.started": "2024-11-15T07:25:39.476613Z"
    }
   },
   "outputs": [],
   "source": [
    "# Save the fine-tuned model\n",
    "torch.save(model.state_dict(), \"moco_fine_tuned_model.pth\")"
   ]
  },
  {
   "cell_type": "code",
   "execution_count": 13,
   "metadata": {
    "execution": {
     "iopub.execute_input": "2024-11-15T07:25:40.835280Z",
     "iopub.status.busy": "2024-11-15T07:25:40.834488Z",
     "iopub.status.idle": "2024-11-15T07:25:40.901541Z",
     "shell.execute_reply": "2024-11-15T07:25:40.900507Z",
     "shell.execute_reply.started": "2024-11-15T07:25:40.835240Z"
    }
   },
   "outputs": [],
   "source": [
    "# Save the fine-tuned model in .h5 format\n",
    "import h5py\n",
    "\n",
    "def save_model_to_h5(model, filepath=\"moco_fine_tuned_model.h5\"):\n",
    "    with h5py.File(filepath, 'w') as f:\n",
    "        for name, param in model.named_parameters():\n",
    "            f.create_dataset(name, data=param.cpu().detach().numpy())\n",
    "            \n",
    "# Save the fine-tuned model weights to an h5 file\n",
    "save_model_to_h5(model, filepath=\"moco_fine_tuned_model.h5\")\n"
   ]
  },
  {
   "cell_type": "code",
   "execution_count": null,
   "metadata": {},
   "outputs": [],
   "source": []
  },
  {
   "cell_type": "code",
   "execution_count": null,
   "metadata": {},
   "outputs": [],
   "source": []
  }
 ],
 "metadata": {
  "kaggle": {
   "accelerator": "gpu",
   "dataSources": [
    {
     "datasetId": 1541807,
     "sourceId": 2542588,
     "sourceType": "datasetVersion"
    },
    {
     "datasetId": 6087558,
     "sourceId": 9908193,
     "sourceType": "datasetVersion"
    }
   ],
   "dockerImageVersionId": 30787,
   "isGpuEnabled": true,
   "isInternetEnabled": true,
   "language": "python",
   "sourceType": "notebook"
  },
  "kernelspec": {
   "display_name": "Python 3 (ipykernel)",
   "language": "python",
   "name": "python3"
  },
  "language_info": {
   "codemirror_mode": {
    "name": "ipython",
    "version": 3
   },
   "file_extension": ".py",
   "mimetype": "text/x-python",
   "name": "python",
   "nbconvert_exporter": "python",
   "pygments_lexer": "ipython3",
   "version": "3.12.6"
  },
  "widgets": {
   "application/vnd.jupyter.widget-state+json": {
    "state": {},
    "version_major": 2,
    "version_minor": 0
   }
  }
 },
 "nbformat": 4,
 "nbformat_minor": 4
}
